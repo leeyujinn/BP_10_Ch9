{
  "nbformat": 4,
  "nbformat_minor": 0,
  "metadata": {
    "colab": {
      "provenance": [],
      "authorship_tag": "ABX9TyP/0NETxfEfysMrPfMWmpbp",
      "include_colab_link": true
    },
    "kernelspec": {
      "name": "python3",
      "display_name": "Python 3"
    },
    "language_info": {
      "name": "python"
    }
  },
  "cells": [
    {
      "cell_type": "markdown",
      "metadata": {
        "id": "view-in-github",
        "colab_type": "text"
      },
      "source": [
        "<a href=\"https://colab.research.google.com/github/leeyujinn/BP_10_Ch9/blob/main/BP_10_EX_Ch9.ipynb\" target=\"_parent\"><img src=\"https://colab.research.google.com/assets/colab-badge.svg\" alt=\"Open In Colab\"/></a>"
      ]
    },
    {
      "cell_type": "markdown",
      "source": [
        "1. 사용자로부터 5개의 숫자를 읽어서 리스트에 저장하고 숫자들의 평균을 계산하여 출력하는 프로그램을 작성해보자."
      ],
      "metadata": {
        "id": "mMQtr5XzMBYy"
      }
    },
    {
      "cell_type": "code",
      "source": [
        "alist = [] #alist라는 새로운 공백 리스트를 생성\n",
        "sum = 0 #sum 값을 초기화\n",
        "\n",
        "for i in range(5): #변수 i를 5번 반복\n",
        "  i = int(input(\"정수를 입력하시오: \")) #사용자로부터 정수를 입력받는다.\n",
        "  alist.append(i) #현재 공백인 alist 리스트에 변수 i의 값을 추가한다\n",
        "\n",
        "for i in alist: #alist 리스트 내의 i를 출력\n",
        "  sum += i #합을 구함\n",
        "avg = sum/len(alist) #사용자로부터 받은 수를 더한 값에서 리스트의 개수로 나눈다(평균을 구함)\n",
        "print(\"평균=\",avg) #평균을 출력함"
      ],
      "metadata": {
        "colab": {
          "base_uri": "https://localhost:8080/"
        },
        "id": "6B0BgVxoMtjq",
        "outputId": "aba4dd9a-262c-416d-bdc5-da590ea332f1"
      },
      "execution_count": 3,
      "outputs": [
        {
          "output_type": "stream",
          "name": "stdout",
          "text": [
            "정수를 입력하시오: 10\n",
            "정수를 입력하시오: 20\n",
            "정수를 입력하시오: 30\n",
            "정수를 입력하시오: 40\n",
            "정수를 입력하시오: 50\n",
            "평균= 30.0\n"
          ]
        }
      ]
    },
    {
      "cell_type": "markdown",
      "source": [
        "2. 주사위를 던져서 나오는 값들의 빈도를 계산하는 프로그램을 작성해보자. 즉 1,2,3,4,5,6의 값이 각각 몇 번이나 나오는지를 계산한다. 난수 발생 함수와 리스트를 사용해보자."
      ],
      "metadata": {
        "id": "zpPtIJxONL7a"
      }
    },
    {
      "cell_type": "code",
      "source": [
        "import random #random 라이브러리 불러오기\n",
        "counters = [0,0,0,0,0,0] #변수 counters의 리스트\n",
        "\n",
        "for i in range(1000): #변수 i를 1000번 반복\n",
        "  value = random.randint(0,5) #0에서 5까지의 숫자가 랜덤으로 지정되며 변수 value에 저장\n",
        "  counters[value] = counters[value] + 1 #주사위를 던져 값이 나오면 해당되는 리스트의 요소를 1씩 증가시킴\n",
        "\n",
        "for i in range(6): #변수 i를 6번 반복\n",
        "  print(\"주사위가\",i+1,\"인 경우는\",counters[i],\"번\") #주사위가 i(변수)+1,인 경우는 몇(counters[i]의 결과값)번인지 출력"
      ],
      "metadata": {
        "colab": {
          "base_uri": "https://localhost:8080/"
        },
        "id": "VE8TZZSNNcWK",
        "outputId": "e103fab9-cd2c-477d-81da-0c8da2b0b18a"
      },
      "execution_count": 4,
      "outputs": [
        {
          "output_type": "stream",
          "name": "stdout",
          "text": [
            "주사위가 1 인 경우는 172 번\n",
            "주사위가 2 인 경우는 167 번\n",
            "주사위가 3 인 경우는 171 번\n",
            "주사위가 4 인 경우는 164 번\n",
            "주사위가 5 인 경우는 164 번\n",
            "주사위가 6 인 경우는 162 번\n"
          ]
        }
      ]
    },
    {
      "cell_type": "markdown",
      "source": [
        "3. 딕셔너리를 사용하여서 친구들의 이름과 전화번호를 저장해보자. 사용자로부터 친구들의 이름과 전화번호를 입력받고 딕셔너리에 저장한다. 이름을 입력하지 않고 엔터키를 치면 검색모드가 된다. 검색 모드에서는 친구들의 이름으로 전화번호를 검색할 수 있도록 한다."
      ],
      "metadata": {
        "id": "Rwc-hzebOR76"
      }
    },
    {
      "cell_type": "code",
      "source": [
        "contacts = { } #contacts라는 딕셔너리를 생성\n",
        "\n",
        "while True: #맞을때까지 반복(이름이 입력되지 않을때까지 반복해서 받음)\n",
        "  name = input(\"(입력모드)이름을 입력하시오: \") #사용자로부터 이름을 입력받고 변수 name에 저장\n",
        "  if not name: #name이 아니면\n",
        "    break; #중단하기\n",
        "  tel = input(\"전화번호를 입력하시오: \") #사용자로부터 전화번호를 입력받고 변수 tel에 저장\n",
        "  contacts[name] = tel #contacts 리스트에 있는 이름에 전화번호를 저장 \n",
        "\n",
        "while True: #맞을때까지 반복(입력모드가 끝나면 검색모드를 시작함함)\n",
        "  name = input(\"(검색모드)이름을 입력하시오: \") #사용자가 이름을 검색함\n",
        "  if not name: #name의 이름이 아니라면\n",
        "    break; #중단하기\n",
        "  if name in contacts: #contacts 리스트에 name이 있다면 \n",
        "    print(name,\"의 전화번호는\",contacts[name],\"입니다.\") #이름과 전화번호를 출력\n",
        "  else: #없다면 \n",
        "    break; #중단하기"
      ],
      "metadata": {
        "colab": {
          "base_uri": "https://localhost:8080/"
        },
        "id": "2E1HS3-cOmzJ",
        "outputId": "f1fe73a8-eb8e-4a7a-8a47-7ca44de7fe28"
      },
      "execution_count": 5,
      "outputs": [
        {
          "name": "stdout",
          "output_type": "stream",
          "text": [
            "(입력모드)이름을 입력하시오: 홍길동\n",
            "전화번호를 입력하시오: 111-2222\n",
            "(입력모드)이름을 입력하시오: 김철수\n",
            "전화번호를 입력하시오: 222-3333\n",
            "(입력모드)이름을 입력하시오: \n",
            "(검색모드)이름을 입력하시오: 홍길동\n",
            "홍길동 의 전화번호는 111-2222 입니다.\n",
            "(검색모드)이름을 입력하시오: 김철수\n",
            "김철수 의 전화번호는 222-3333 입니다.\n",
            "(검색모드)이름을 입력하시오: \n"
          ]
        }
      ]
    },
    {
      "cell_type": "markdown",
      "source": [
        "7. 인터넷 도메인의 약자와 해당되는 국가를 딕셔너리에 저장해보자. 예를 들어서 \"kr\"은 대한민국으로 저장되어이 한다. 딕셔너리를 순화하면서 모든 키와 값을 출력하는 프로그램을 작성해보자."
      ],
      "metadata": {
        "id": "emKx3b8Wwvk_"
      }
    },
    {
      "cell_type": "code",
      "source": [
        "domains = {\"kr\":\"대한민국\",\"us\":\"미국\",\"jp\":\"일본\",\"de\":\"독일\",\"sk\":\"슬로바키아\",\n",
        "           \"hu\":\"헝가리\",\"no\":\"노르웨이\"} #domains의 딕셔너리\n",
        "\n",
        "for k, v in domains.items(): #domains 딕셔너리내에 있는 k, v의 값을 출력\n",
        "  print(k,\": \",v) #k:v의 결과값을 텍스트로 출력"
      ],
      "metadata": {
        "colab": {
          "base_uri": "https://localhost:8080/"
        },
        "id": "nz1hpAYPym1M",
        "outputId": "97cf8205-e712-48d5-e2a2-405151d03c50"
      },
      "execution_count": 11,
      "outputs": [
        {
          "output_type": "stream",
          "name": "stdout",
          "text": [
            "kr :  대한민국\n",
            "us :  미국\n",
            "jp :  일본\n",
            "de :  독일\n",
            "sk :  슬로바키아\n",
            "hu :  헝가리\n",
            "no :  노르웨이\n"
          ]
        }
      ]
    },
    {
      "cell_type": "markdown",
      "source": [
        "8. 딕셔너리에 문제와 정답을 저장하고 하나씩 꺼내서 사용자에게 제시하는 프로그램을 작성해보자. 사용자는 문자열로 답해야 한다. 번호로 답할 수는 없다."
      ],
      "metadata": {
        "id": "YuZf9Dn1zXw2"
      }
    },
    {
      "cell_type": "code",
      "source": [
        "problems = {\"파이썬\": \"최근에 가장 떠오르는 프로그래밍 언어\",\n",
        "            \"변수\": \"데이터를 저장하는 메모리 공간\",\n",
        "            \"함수\": \"작업을 수행하는 문장들의 집합에 이름을 붙인것\",\n",
        "            \"리스트\": \"서로 관련이 없는 항목들의 모임\",} #problem의 딕셔너리리\n",
        "\n",
        "for word in problems.keys(): #problem 딕셔너리 내에 있는 모든 word를 출력\n",
        "  print(\"다음은 어떤 단어에 대한 설명일까요?\") #다음은 어떤 단어에 대한 설명일까요?를 출력\n",
        "  print(problems[word]) #딕셔너리의 값을 출력\n",
        "  print(\"(1)파이썬 (2)함수 (3)리스트 (4)변수\") #(1)파이썬 (2)함수 (3)리스트 (4)변수를 출력\n",
        "  answer = input(\"정답(문자만 입력할 것): \") #사용자로부터 정답을 입력받음\n",
        "  \n",
        "  if answer == word: #답이 일치한다면\n",
        "    print(\"정답입니다!\") #정답입니다!를 출력\n",
        "  else: #그렇지 않으면\n",
        "    print(\"정답이 아닙니다.\") #정답이 아닙니다.를 출력"
      ],
      "metadata": {
        "colab": {
          "base_uri": "https://localhost:8080/"
        },
        "id": "WmlWjC69zf1R",
        "outputId": "f773bd77-76e7-4954-960f-53cd5edcaf5b"
      },
      "execution_count": 10,
      "outputs": [
        {
          "output_type": "stream",
          "name": "stdout",
          "text": [
            "다음은 어떤 단어에 대한 설명일까요?\n",
            "최근에 가장 떠오르는 프로그래밍 언어\n",
            "(1)파이썬 (2)함수 (3)리스트 (4)변수\n",
            "정답(문자만 입력할 것): 파이썬\n",
            "정답입니다!\n",
            "다음은 어떤 단어에 대한 설명일까요?\n",
            "데이터를 저장하는 메모리 공간\n",
            "(1)파이썬 (2)함수 (3)리스트 (4)변수\n",
            "정답(문자만 입력할 것): 변수\n",
            "정답입니다!\n",
            "다음은 어떤 단어에 대한 설명일까요?\n",
            "작업을 수행하는 문장들의 집합에 이름을 붙인것\n",
            "(1)파이썬 (2)함수 (3)리스트 (4)변수\n",
            "정답(문자만 입력할 것): 함수\n",
            "정답입니다!\n",
            "다음은 어떤 단어에 대한 설명일까요?\n",
            "서로 관련이 없는 항목들의 모임\n",
            "(1)파이썬 (2)함수 (3)리스트 (4)변수\n",
            "정답(문자만 입력할 것): 리스트\n",
            "정답입니다!\n"
          ]
        }
      ]
    }
  ]
}